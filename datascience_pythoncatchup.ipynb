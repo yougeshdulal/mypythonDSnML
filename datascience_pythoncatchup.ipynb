{
 "cells": [
  {
   "cell_type": "code",
   "execution_count": 8,
   "id": "f9937523",
   "metadata": {},
   "outputs": [
    {
     "name": "stdout",
     "output_type": "stream",
     "text": [
      "Enter your country name Nepal\n",
      "Enter the age 25\n",
      "Nepal\n",
      "25\n",
      "valid\n"
     ]
    }
   ],
   "source": [
    "name = input(\"Enter your country name \")\n",
    "age = int(input(\"Enter the age \"))\n",
    "print(name)\n",
    "print(age)\n",
    "if age >= 18 and name.lower() == 'nepal':  #lower and uppercase both acceptable\n",
    "    print(\"valid\")\n",
    "else:\n",
    "    print(\"invalid\")"
   ]
  },
  {
   "cell_type": "code",
   "execution_count": 1,
   "id": "f0506451",
   "metadata": {},
   "outputs": [
    {
     "ename": "NameError",
     "evalue": "name 'random' is not defined",
     "output_type": "error",
     "traceback": [
      "\u001b[1;31m---------------------------------------------------------------------------\u001b[0m",
      "\u001b[1;31mNameError\u001b[0m                                 Traceback (most recent call last)",
      "Cell \u001b[1;32mIn[1], line 7\u001b[0m\n\u001b[0;32m      5\u001b[0m s1 \u001b[38;5;241m=\u001b[39m \u001b[38;5;241m0\u001b[39m\n\u001b[0;32m      6\u001b[0m s2 \u001b[38;5;241m=\u001b[39m \u001b[38;5;241m0\u001b[39m\n\u001b[1;32m----> 7\u001b[0m control_number \u001b[38;5;241m=\u001b[39m \u001b[43mrandom\u001b[49m\u001b[38;5;241m.\u001b[39mrandint(\u001b[38;5;241m1\u001b[39m,\u001b[38;5;241m2\u001b[39m)  \u001b[38;5;66;03m# 1 or 2\u001b[39;00m\n\u001b[0;32m      8\u001b[0m \u001b[38;5;28;01mwhile\u001b[39;00m \u001b[38;5;28;01mTrue\u001b[39;00m:\n\u001b[0;32m      9\u001b[0m     control_number \u001b[38;5;241m=\u001b[39m random\u001b[38;5;241m.\u001b[39mrandint(\u001b[38;5;241m1\u001b[39m,\u001b[38;5;241m2\u001b[39m)  \u001b[38;5;66;03m# 1 or 2\u001b[39;00m\n",
      "\u001b[1;31mNameError\u001b[0m: name 'random' is not defined"
     ]
    }
   ],
   "source": [
    "c1 = 'Nepal'\n",
    "c2 = 'China'\n",
    "cap1 = 'kathmandu'\n",
    "cap2 = 'beijing'\n",
    "s1 = 0\n",
    "s2 = 0\n",
    "control_number = random.randint(1,2)  # 1 or 2\n",
    "while True:\n",
    "    control_number = random.randint(1,2)  # 1 or 2\n",
    "    if control_number == 1 and s1 == 0:\n",
    "        u_cap1 = input(\"Enter the capital of Nepal \")\n",
    "        if u_cap1.lower() == cap1:\n",
    "            print(\"Bravo!\")\n",
    "        else:\n",
    "            print(\"Hard luck!\")\n",
    "        s1 = 1\n",
    "        \n",
    "    if control_number == 2 and s2 == 0:\n",
    "        u_cap2 = input(\"Enter the capital of china \")\n",
    "        if u_cap2.lower() == cap2:\n",
    "            print(\"Cool\")\n",
    "        else:\n",
    "            print(\"Hard luck\")\n",
    "        s2 = 1\n",
    "        \n",
    "    if s1 == 1 and s2 == 1:\n",
    "        break"
   ]
  },
  {
   "cell_type": "code",
   "execution_count": 1,
   "id": "68add0cb",
   "metadata": {},
   "outputs": [
    {
     "name": "stdout",
     "output_type": "stream",
     "text": [
      "['ram', 22, 77, ['ktm', 'pakra']]\n"
     ]
    }
   ],
   "source": [
    "list1 = ['ram',22,77,['ktm','pakra']]\n",
    "print(list1)"
   ]
  },
  {
   "cell_type": "code",
   "execution_count": 3,
   "id": "318bf1d5",
   "metadata": {},
   "outputs": [
    {
     "data": {
      "text/plain": [
       "['ktm', 'pakra']"
      ]
     },
     "execution_count": 3,
     "metadata": {},
     "output_type": "execute_result"
    }
   ],
   "source": [
    "list1[3]"
   ]
  },
  {
   "cell_type": "code",
   "execution_count": 4,
   "id": "9997e6ed",
   "metadata": {},
   "outputs": [
    {
     "name": "stdout",
     "output_type": "stream",
     "text": [
      "{'name': 'roshan', 'age': 33, 'mark': 77, 'address': 'kathmandu'}\n"
     ]
    }
   ],
   "source": [
    "student = {\n",
    "    'name':'roshan',\n",
    "    'age':33,\n",
    "    'mark':77,\n",
    "    'address':'kathmandu'\n",
    "}\n",
    "print(student)"
   ]
  },
  {
   "cell_type": "code",
   "execution_count": 5,
   "id": "53c18f77",
   "metadata": {},
   "outputs": [
    {
     "name": "stdout",
     "output_type": "stream",
     "text": [
      "roshan\n"
     ]
    }
   ],
   "source": [
    "print(student['name'])"
   ]
  },
  {
   "cell_type": "code",
   "execution_count": 6,
   "id": "f052dea4",
   "metadata": {},
   "outputs": [
    {
     "name": "stdout",
     "output_type": "stream",
     "text": [
      "dict_values(['roshan', 33, 77, 'kathmandu'])\n"
     ]
    }
   ],
   "source": [
    "print(student.values())"
   ]
  },
  {
   "cell_type": "code",
   "execution_count": 7,
   "id": "16ef1591",
   "metadata": {},
   "outputs": [
    {
     "name": "stdout",
     "output_type": "stream",
     "text": [
      "roshan\n",
      "33\n",
      "77\n",
      "kathmandu\n"
     ]
    }
   ],
   "source": [
    "for i in student.values():\n",
    "    print(i)\n",
    "    "
   ]
  },
  {
   "cell_type": "code",
   "execution_count": 8,
   "id": "d8bbb308",
   "metadata": {},
   "outputs": [
    {
     "name": "stdout",
     "output_type": "stream",
     "text": [
      "name roshan\n",
      "age 33\n",
      "mark 77\n",
      "address kathmandu\n"
     ]
    }
   ],
   "source": [
    "for i,j in student.items():\n",
    "    print(i,j)"
   ]
  },
  {
   "cell_type": "code",
   "execution_count": 9,
   "id": "1f4c00db",
   "metadata": {},
   "outputs": [],
   "source": [
    "import math"
   ]
  },
  {
   "cell_type": "code",
   "execution_count": 10,
   "id": "c93b464a",
   "metadata": {},
   "outputs": [
    {
     "name": "stdout",
     "output_type": "stream",
     "text": [
      "2.8284271247461903\n"
     ]
    }
   ],
   "source": [
    "num = 8\n",
    "print(math.sqrt(num))"
   ]
  },
  {
   "cell_type": "code",
   "execution_count": 11,
   "id": "10581303",
   "metadata": {},
   "outputs": [
    {
     "name": "stdout",
     "output_type": "stream",
     "text": [
      "64.0\n"
     ]
    }
   ],
   "source": [
    "print(math.pow(num,2))"
   ]
  },
  {
   "cell_type": "code",
   "execution_count": 13,
   "id": "70305323",
   "metadata": {},
   "outputs": [],
   "source": [
    "import os"
   ]
  },
  {
   "cell_type": "code",
   "execution_count": 15,
   "id": "fdbc9386",
   "metadata": {},
   "outputs": [
    {
     "name": "stdout",
     "output_type": "stream",
     "text": [
      "b'C:\\\\Users\\\\dulal\\\\python DS practise'\n"
     ]
    }
   ],
   "source": [
    "print(os.getcwdb())"
   ]
  },
  {
   "cell_type": "code",
   "execution_count": 16,
   "id": "f0d5f694",
   "metadata": {},
   "outputs": [],
   "source": [
    "import csv"
   ]
  },
  {
   "cell_type": "code",
   "execution_count": 20,
   "id": "ff5faedb",
   "metadata": {},
   "outputs": [
    {
     "name": "stdout",
     "output_type": "stream",
     "text": [
      "['country', 'capital', 'gdp', 'education']\n",
      "['Nepal', 'kathmandu', '60', '15']\n",
      "['china', 'beijing', '115', '14']\n",
      "['america', 'newyork', '150', '15']\n",
      "['india', 'delhi', '80', '12']\n",
      "['aus', 'canb', '140', '17']\n",
      "['pakistan', 'lahore', '105', '14']\n",
      "['uae', 'dubai', '130', '15']\n"
     ]
    }
   ],
   "source": [
    "with open(\"country.csv\") as f:\n",
    "    data_read = csv.reader(f)\n",
    "    \n",
    "    for i in data_read:\n",
    "        print(i)"
   ]
  },
  {
   "cell_type": "code",
   "execution_count": 21,
   "id": "1e37e81f",
   "metadata": {},
   "outputs": [
    {
     "name": "stdout",
     "output_type": "stream",
     "text": [
      "['Nepal', 'kathmandu', '60', '15']\n"
     ]
    }
   ],
   "source": [
    "with open(\"country.csv\") as f:\n",
    "    data_read = csv.reader(f)\n",
    "    \n",
    "    for i in data_read:\n",
    "        if 'Nepal' in i:\n",
    "            print(i)"
   ]
  },
  {
   "cell_type": "code",
   "execution_count": 15,
   "id": "e021f8b3",
   "metadata": {},
   "outputs": [],
   "source": [
    "import csv"
   ]
  },
  {
   "cell_type": "code",
   "execution_count": null,
   "id": "a50e20d3",
   "metadata": {},
   "outputs": [],
   "source": [
    "def patient_detail():\n",
    "    name = input(\"enter the name: \")\n",
    "    age = input(\"enter the age: \")\n",
    "    address = input(\"enter the address: \")\n",
    "    duration = input(\"enter the duration: \")\n",
    "    medication = input(\"enter yes or no medication: \")\n",
    "    return name,age,address,duration,medication\n",
    "\n",
    "\n",
    "\n",
    "\n",
    "while True:\n",
    "    user_option = input(\"enter  \\n 1)add new detail \\n 2)view  \\n 3)search new detail  \\n exist\")\n",
    "    match user_option:\n",
    "            case 'add':\n",
    "                name,age,address,duration,medication = patient_detail()\n",
    "                with open(\"patient.csv\",'a', newline = '') as f:\n",
    "                    data_write = csv.writer(f)\n",
    "                    data_write.writerow([name,age,address,duration,medication])\n",
    "\n",
    "            case 'view':\n",
    "                with open(\"patient.csv\") as f:\n",
    "                    data_read = csv.reader(f)\n",
    "                    for i in data_read:\n",
    "                        print(i)\n",
    "            case 'search':\n",
    "                name = input(\"enter the name: \")\n",
    "                with open(\"patient.csv\") as f:\n",
    "                    data_read = csv.reader(f)\n",
    "                    for i in data_read:\n",
    "                        if name in i:\n",
    "                            print(i)\n",
    "                        else: \n",
    "                            print(\"didn't found name\")\n",
    "            case 'exit':\n",
    "                break\n",
    "\n",
    "            case __:\n",
    "                print(\"invalid\")"
   ]
  },
  {
   "cell_type": "code",
   "execution_count": null,
   "id": "88f5673a",
   "metadata": {},
   "outputs": [],
   "source": [
    "    "
   ]
  }
 ],
 "metadata": {
  "kernelspec": {
   "display_name": "Python 3 (ipykernel)",
   "language": "python",
   "name": "python3"
  },
  "language_info": {
   "codemirror_mode": {
    "name": "ipython",
    "version": 3
   },
   "file_extension": ".py",
   "mimetype": "text/x-python",
   "name": "python",
   "nbconvert_exporter": "python",
   "pygments_lexer": "ipython3",
   "version": "3.11.3"
  }
 },
 "nbformat": 4,
 "nbformat_minor": 5
}
