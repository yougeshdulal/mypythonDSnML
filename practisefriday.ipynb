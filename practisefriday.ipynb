{
 "cells": [
  {
   "cell_type": "code",
   "execution_count": 1,
   "id": "620f3eb2",
   "metadata": {},
   "outputs": [
    {
     "name": "stdout",
     "output_type": "stream",
     "text": [
      "enter your name: yougesh\n",
      "enter your age: 24\n",
      "name is yougesh and age is 24\n"
     ]
    }
   ],
   "source": [
    "name = input(\"enter your name: \")\n",
    "age = int(input(\"enter your age: \"))\n",
    "\n",
    "print(f\"name is {name} and age is {age}\")\n"
   ]
  },
  {
   "cell_type": "code",
   "execution_count": 6,
   "id": "923dfaf1",
   "metadata": {},
   "outputs": [
    {
     "name": "stdout",
     "output_type": "stream",
     "text": [
      "enter the amount of shirt::55\n",
      "enter the amount of pant::45\n",
      "enter the amount of shoes::85\n",
      "total amount is : 185\n",
      "enter the payment amount::180\n",
      "paisa pugena aije thapnus rupes: 5\n"
     ]
    }
   ],
   "source": [
    "shirt_p = int(input(\"enter the amount of shirt::\"))\n",
    "pant_p = int(input(\"enter the amount of pant::\"))\n",
    "shoes_p = int(input(\"enter the amount of shoes::\"))\n",
    "\n",
    "total = shirt_p+pant_p+shoes_p\n",
    "\n",
    "print(\"total amount is :\", total)\n",
    "\n",
    "payment = int(input(\"enter the payment amount::\"))\n",
    "\n",
    "ret = payment - total\n",
    "\n",
    "if total > 0.5 * payment:\n",
    "    print(\"paisa pugena aije thapnus rupes:\", total - payment)\n",
    "if payment > total:\n",
    "    print(\"lignus tapai ko return amount:\", ret)\n",
    "if payment < 0.5 * total:\n",
    "    print(\"majak nagarnu na,,paisa pugena aije thapnus rupes:\", total - payment)\n",
    "if payment == total:\n",
    "    print(\"thanks for the payment!!!\")"
   ]
  },
  {
   "cell_type": "code",
   "execution_count": 3,
   "id": "256295fa",
   "metadata": {},
   "outputs": [
    {
     "name": "stdout",
     "output_type": "stream",
     "text": [
      "enter  your age : 25\n",
      "you are eligible for marriage and voting both\n"
     ]
    }
   ],
   "source": [
    "age = int(input(\"enter  your age : \"))\n",
    "\n",
    "if age >= 18 & age <= 90:\n",
    "    if age >= 18:\n",
    "        if age >= 22:\n",
    "            print(\"you are eligible for marriage and voting both\")\n",
    "        else:\n",
    "            print(\"you are eligible for voting only but not eligible for marriage\")\n",
    "elif age < 18:\n",
    "    print(\"you are not eligible for voting\")\n",
    "else:\n",
    "    print(\"please enter the valid age!!\")"
   ]
  },
  {
   "cell_type": "code",
   "execution_count": 4,
   "id": "3b42650a",
   "metadata": {},
   "outputs": [
    {
     "name": "stdout",
     "output_type": "stream",
     "text": [
      "Enter your age: 45\n",
      "your age is:  45\n",
      "you are eligible for voting\n"
     ]
    }
   ],
   "source": [
    "age = int(input(\"Enter your age: \"))\n",
    "print(\"your age is: \", age)\n",
    "if age > 18:\n",
    "    print(\"you are eligible for voting\")\n",
    "else:\n",
    "    print(\"you are not eligible\")\n"
   ]
  },
  {
   "cell_type": "code",
   "execution_count": 1,
   "id": "43ae0eca",
   "metadata": {},
   "outputs": [
    {
     "name": "stdout",
     "output_type": "stream",
     "text": [
      "hello 1\n",
      "hello 2\n",
      "hello 3\n",
      "hello 4\n",
      "hello 5\n",
      "hello 6\n",
      "out 7\n"
     ]
    }
   ],
   "source": [
    "a = 1\n",
    "while a <= 6:\n",
    "    print(\"hello\",a)\n",
    "    a = a+1\n",
    "print(\"out\",a)"
   ]
  },
  {
   "cell_type": "code",
   "execution_count": null,
   "id": "2fe47918",
   "metadata": {},
   "outputs": [],
   "source": []
  }
 ],
 "metadata": {
  "kernelspec": {
   "display_name": "Python 3 (ipykernel)",
   "language": "python",
   "name": "python3"
  },
  "language_info": {
   "codemirror_mode": {
    "name": "ipython",
    "version": 3
   },
   "file_extension": ".py",
   "mimetype": "text/x-python",
   "name": "python",
   "nbconvert_exporter": "python",
   "pygments_lexer": "ipython3",
   "version": "3.11.3"
  }
 },
 "nbformat": 4,
 "nbformat_minor": 5
}
